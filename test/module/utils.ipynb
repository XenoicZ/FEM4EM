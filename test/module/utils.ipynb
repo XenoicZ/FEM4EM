{
 "cells": [
  {
   "cell_type": "code",
   "execution_count": 38,
   "metadata": {},
   "outputs": [],
   "source": [
    "import numpy as np\n",
    "import scipy\n",
    "import scipy.io\n",
    "from scipy.sparse import random\n",
    "from scipy import linalg"
   ]
  },
  {
   "cell_type": "code",
   "execution_count": 61,
   "metadata": {},
   "outputs": [],
   "source": [
    "def trans_ill_cond(matrix, factor, axis=0):\n",
    "    if axis == 0:\n",
    "        matrix[:,0] = matrix[:,0]*factor\n",
    "        matrix[:,1] = matrix[:,1]/factor\n",
    "    else:\n",
    "        matrix[0,:] = matrix[0,:]*factor\n",
    "        matrix[1,:] = matrix[1,:]/factor\n",
    "    return matrix"
   ]
  },
  {
   "cell_type": "code",
   "execution_count": 102,
   "metadata": {},
   "outputs": [],
   "source": [
    "def mk_sparse(name, shape, nonzero_percent=0.001, ill_cond=None, ill_cond_axis=0):\n",
    "    num_elements = shape[0] * shape[1]\n",
    "    num_nonzero = int(nonzero_percent * num_elements)\n",
    "    values = np.random.rand(num_nonzero)  # Random values for nonzero elements\n",
    "    sparse_matrix = random(shape[0], shape[1], density=nonzero_percent,\n",
    "                           format='csc', data_rvs=lambda size: values, random_state=None)\n",
    "    if ill_cond is not None:\n",
    "        sparse_matrix = trans_ill_cond(sparse_matrix, factor=ill_cond, axis=ill_cond_axis)\n",
    "        \n",
    "    scipy.io.savemat(name, {'B':sparse_matrix})\n",
    "    print('Sparse matrix with shape {} has been saved to {}'.format(shape,name))"
   ]
  },
  {
   "cell_type": "code",
   "execution_count": 105,
   "metadata": {},
   "outputs": [
    {
     "name": "stdout",
     "output_type": "stream",
     "text": [
      "Sparse matrix with shape (170, 1) has been saved to ../matrix/b2.mat\n"
     ]
    }
   ],
   "source": [
    "mk_sparse('../matrix/b2.mat', (170,1), nonzero_percent=1.)"
   ]
  },
  {
   "cell_type": "code",
   "execution_count": 66,
   "metadata": {},
   "outputs": [],
   "source": [
    "def mk_sparse_quick(file, shape, nonzero_percent=0.001, ill_cond=None):\n",
    "    m = max(shape)\n",
    "    n = min(shape)\n",
    "    mk_sparse(file+'/M1.mat', (m,m), nonzero_percent=nonzero_percent, ill_cond=ill_cond)\n",
    "    mk_sparse(file+'/M2.mat', (m,m), nonzero_percent=nonzero_percent, ill_cond=ill_cond)\n",
    "    mk_sparse(file+'/R1.mat', (m,n), nonzero_percent=nonzero_percent, ill_cond=ill_cond)\n",
    "    mk_sparse(file+'/V1.mat', (m,1), nonzero_percent=nonzero_percent, ill_cond=None)\n",
    "    mk_sparse(file+'/V2.mat', (m,1), nonzero_percent=nonzero_percent, ill_cond=None)"
   ]
  },
  {
   "cell_type": "code",
   "execution_count": 67,
   "metadata": {},
   "outputs": [
    {
     "name": "stdout",
     "output_type": "stream",
     "text": [
      "Sparse matrix with shape (100, 100) has been saved to ../matrix/M1.mat\n",
      "Sparse matrix with shape (100, 100) has been saved to ../matrix/M2.mat\n",
      "Sparse matrix with shape (100, 50) has been saved to ../matrix/R1.mat\n",
      "Sparse matrix with shape (100, 50) has been saved to ../matrix/R2.mat\n",
      "Sparse matrix with shape (100, 1) has been saved to ../matrix/V1.mat\n",
      "Sparse matrix with shape (100, 1) has been saved to ../matrix/V2.mat\n"
     ]
    }
   ],
   "source": [
    "mk_sparse_quick('../matrix', (100,50), nonzero_percent=0.001, ill_cond=1e8)"
   ]
  },
  {
   "cell_type": "code",
   "execution_count": 68,
   "metadata": {},
   "outputs": [],
   "source": [
    "def _track_marks(software_path, test_file):\n",
    "    fun_name = test_file.replace('test_', '')\n",
    "    \n",
    "    with open(test_file+'.m') as f:\n",
    "        text = f.read()\n",
    "    \n",
    "    marks = re.findall(mark_h+'.*'+mark_t, text)\n",
    "    marks_ = []\n",
    "    for mark in marks:\n",
    "        mark = mark.replace(mark_h, '') # truncate line head\n",
    "        mark = mark.replace(mark_t, '') # truncate line tail\n",
    "        mark = mark.split(', ')\n",
    "        mark.insert(0, fun_name)\n",
    "        if len(mark)<4:               # for function without 接口\n",
    "            mark.append('NA')\n",
    "        marks_.append(mark)\n",
    "    marks = np.array(marks_)\n",
    "    return marks"
   ]
  },
  {
   "cell_type": "code",
   "execution_count": 91,
   "metadata": {},
   "outputs": [],
   "source": [
    "def track_marks(test_file):\n",
    "    fun_name = test_file.replace('test_', '')\n",
    "    pattern = r',(?![^\\[\\]]*[\\]\\)])'\n",
    "    \n",
    "    with open(test_file+'.m') as f:\n",
    "        text = f.read()\n",
    "    \n",
    "    marks = re.findall(mark_h+'.*'+mark_t, text)\n",
    "    marks_ = []\n",
    "    for mark in marks:\n",
    "        mark = mark.replace(mark_h, '') # truncate line head\n",
    "        mark = mark.replace(mark_t, '') # truncate line tail\n",
    "        mark = re.split(pattern, mark)\n",
    "        mark.insert(0, fun_name)\n",
    "        \n",
    "        marks_.append(mark)\n",
    "    marks = np.array(marks_)\n",
    "    return marks"
   ]
  },
  {
   "cell_type": "code",
   "execution_count": 69,
   "metadata": {},
   "outputs": [],
   "source": [
    "def track_output(text, head, tail):\n",
    "    output = re.findall(head+'.*'+tail, text)\n",
    "    if len(output) == 1:\n",
    "        output = output[0]\n",
    "        output = output.replace(head, '')\n",
    "        output = output.replace(tail, '')\n",
    "    else:\n",
    "        output = 'Error'\n",
    "    return output"
   ]
  },
  {
   "cell_type": "code",
   "execution_count": null,
   "metadata": {},
   "outputs": [],
   "source": [
    "def mk_head1(script_path, matrix_path):\n",
    "    with open(script_path, 'w') as f:\n",
    "        f.write('format long e\\n')\n",
    "        f.write('A=load(\\\"{}A.mat\\\").M;\\n'.format(matrix_path))\n",
    "    "
   ]
  },
  {
   "cell_type": "code",
   "execution_count": null,
   "metadata": {},
   "outputs": [],
   "source": [
    "def mk_head(script_path, matrix_path):\n",
    "    with open(script_path, 'w') as f:\n",
    "        for matrix in ['M1','M2','R','V1','V2']:\n",
    "            f.write('{}=load(\\\"{}{}.mat\\\").M;\\n'.format(matrix, matrix_path, matrix))\n",
    "        f.write('s=rand(1);\\n')"
   ]
  }
 ],
 "metadata": {
  "kernelspec": {
   "display_name": "Python 3",
   "language": "python",
   "name": "python3"
  },
  "language_info": {
   "codemirror_mode": {
    "name": "ipython",
    "version": 3
   },
   "file_extension": ".py",
   "mimetype": "text/x-python",
   "name": "python",
   "nbconvert_exporter": "python",
   "pygments_lexer": "ipython3",
   "version": "3.7.6"
  }
 },
 "nbformat": 4,
 "nbformat_minor": 4
}
