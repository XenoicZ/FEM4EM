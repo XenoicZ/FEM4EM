{
 "cells": [
  {
   "cell_type": "code",
   "execution_count": null,
   "metadata": {},
   "outputs": [],
   "source": [
    "# MATLAB\n",
    "save_path = work_dir + save_file\n",
    "mark_h = '% '\n",
    "mark_t = '\\n'\n",
    "time_h = 'Elapsed time is '\n",
    "time_t = ' seconds.'\n",
    "accuracy_h = 'ans =\\n\\n   '\n",
    "accuracy_t = '\\n\\n'\n",
    "error_flag = 'Error'\n",
    "block_file = 'block'\n",
    "block_cmd = \"\\\"try,run(\\'block\\');end, quit\\\"\"\n",
    "error_message = 'Warning. Outputs report one or more errors.'\n",
    "cmd_option = ' -nodisplay -nosplash -nodesktop -r '\n",
    "cmd_line = software_path + cmd_option + block_cmd\n",
    "\n",
    "#Baltam\n",
    "save_path = work_dir + save_file\n",
    "mark_h = '% '\n",
    "mark_t = '\\n'\n",
    "time_h = '时间经过了 '\n",
    "time_t = ' 秒。'\n",
    "accuracy_h = 'double\\n\\n   '\n",
    "accuracy_t = '\\n\\n'\n",
    "error_flag = 'Error'\n",
    "block_file = '/test/block.m' # Need further generalization\n",
    "block_cmd = block_file\n",
    "error_message = 'Warning. Outputs report one or more errors.'\n",
    "cmd_option = ' -m '\n",
    "cmd_line = software_path + cmd_option + block_file"
   ]
  }
 ],
 "metadata": {
  "kernelspec": {
   "display_name": "Python 3",
   "language": "python",
   "name": "python3"
  },
  "language_info": {
   "codemirror_mode": {
    "name": "ipython",
    "version": 3
   },
   "file_extension": ".py",
   "mimetype": "text/x-python",
   "name": "python",
   "nbconvert_exporter": "python",
   "pygments_lexer": "ipython3",
   "version": "3.7.6"
  }
 },
 "nbformat": 4,
 "nbformat_minor": 4
}
